{
 "cells": [
  {
   "cell_type": "code",
   "execution_count": 83,
   "id": "381e1704-4bd3-4fbf-a884-85e5aa4f96c0",
   "metadata": {},
   "outputs": [
    {
     "name": "stdout",
     "output_type": "stream",
     "text": [
      "Detailed Bill: \n",
      "**************************************\n",
      "Cart Items: \n",
      "    Laptop : $1000 * 1 = $1000\n",
      "    Mouse : $20 * 2 = $40\n",
      "    Keyboard : $50 * 3 = $150\n",
      "**************************************\n",
      "Sub Total: $1190\n",
      "**************************************\n",
      "You got (20%) Discount! of $238.0\n",
      "Promo Code Applied! $-100\n",
      "Free Delivery!\n",
      "**************************************\n",
      "Total Bill = $852.00\n"
     ]
    }
   ],
   "source": [
    "# Designing a flexible function that simulates an online shopping cart system. \n",
    "\n",
    "def cart(*items, **offer):\n",
    "    print(\"Detailed Bill: \")\n",
    "    print(\"**************************************\")\n",
    "    print(\"Cart Items: \")\n",
    "    subTotal = 0  \n",
    "\n",
    "    for a in items:\n",
    "        for j in a:\n",
    "            print(f\"    {j[0]} : ${j[1]} * {j[2]} = ${j[1]*j[2]}\")\n",
    "            subTotal += j[1] * j[2] \n",
    "    print(\"**************************************\")\n",
    "    print(f\"Sub Total: ${subTotal}\")\n",
    "    print(\"**************************************\")\n",
    "    \n",
    "    for i, j in offer.items():\n",
    "        if i == \"discount\":\n",
    "            discount = subTotal * j / 100\n",
    "            subTotal -= discount\n",
    "            print(f\"You got ({j}%) Discount! of ${discount:}\")\n",
    "     \n",
    "        if i == \"promo_code\":\n",
    "            print(f\"Promo Code Applied! ${j}\")\n",
    "            subTotal += j\n",
    "     \n",
    "        if i == \"delivery_charge\":\n",
    "            if subTotal <= 500:\n",
    "                subTotal += j\n",
    "                print(f\"Delivery charge: ${j}\")\n",
    "            else:\n",
    "                print(\"Free Delivery!\")\n",
    "    print(\"**************************************\")\n",
    "    print(f\"Total Bill = ${subTotal:.2f}\")\n",
    "\n",
    "items_list = [(\"Laptop\", 1000, 1), (\"Mouse\", 20, 2), (\"Keyboard\", 50, 3)]\n",
    "cart(items_list, discount=20, promo_code=-100, delivery_charge=50)"
   ]
  },
  {
   "cell_type": "code",
   "execution_count": 85,
   "id": "73251fbe-9a85-4c5c-a9c5-665aeddd28ae",
   "metadata": {},
   "outputs": [
    {
     "name": "stdout",
     "output_type": "stream",
     "text": [
      "Detailed Bill: \n",
      "**************************************\n",
      "Cart Items: \n",
      "    Laptop : $1000 * 1 = $1000\n",
      "    Mouse : $20 * 2 = $40\n",
      "    Keyboard : $50 * 3 = $150\n",
      "**************************************\n",
      "Sub Total: $1190\n",
      "**************************************\n",
      "You got (20%) Discount! of $238.0\n",
      "Free Delivery!\n",
      "**************************************\n",
      "Total Bill = $952.00\n"
     ]
    }
   ],
   "source": [
    "items_list = [(\"Laptop\", 1000, 1), (\"Mouse\", 20, 2), (\"Keyboard\", 50, 3)]\n",
    "cart(items_list,discount=20,delivery_charge=50)"
   ]
  },
  {
   "cell_type": "code",
   "execution_count": 87,
   "id": "3522f4ea-c896-463d-a459-0d8d1ffa3864",
   "metadata": {},
   "outputs": [
    {
     "name": "stdout",
     "output_type": "stream",
     "text": [
      "Detailed Bill: \n",
      "**************************************\n",
      "Cart Items: \n",
      "    Laptop : $1000 * 1 = $1000\n",
      "    Mouse : $20 * 1 = $20\n",
      "    Keyboard : $50 * 3 = $150\n",
      "**************************************\n",
      "Sub Total: $1170\n",
      "**************************************\n",
      "You got (20%) Discount! of $234.0\n",
      "Free Delivery!\n",
      "**************************************\n",
      "Total Bill = $936.00\n"
     ]
    }
   ],
   "source": [
    "items_list = [(\"Laptop\", 1000, 1), (\"Mouse\", 20,1 ), (\"Keyboard\", 50, 3)]\n",
    "cart(items_list,discount=20,delivery_charge=50)"
   ]
  }
 ],
 "metadata": {
  "kernelspec": {
   "display_name": "Python 3 (ipykernel)",
   "language": "python",
   "name": "python3"
  },
  "language_info": {
   "codemirror_mode": {
    "name": "ipython",
    "version": 3
   },
   "file_extension": ".py",
   "mimetype": "text/x-python",
   "name": "python",
   "nbconvert_exporter": "python",
   "pygments_lexer": "ipython3",
   "version": "3.12.4"
  }
 },
 "nbformat": 4,
 "nbformat_minor": 5
}
